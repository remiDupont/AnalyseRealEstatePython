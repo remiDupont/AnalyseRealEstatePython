{
 "cells": [
  {
   "cell_type": "markdown",
   "id": "40d190b7-bc43-4309-b9f7-3787d7a3fa3e",
   "metadata": {},
   "source": [
    "# Notebook to analyse sale history from DVF"
   ]
  },
  {
   "cell_type": "markdown",
   "id": "bb34dc76-33c3-43c5-9ca7-82e952db2fe0",
   "metadata": {},
   "source": [
    "### Objectif \n",
    "\n",
    "- Pour chaque bien, avoir une visibilité des opérations réalisées autour. Récupérer le maxiumu d'informations sur cette vente.\n",
    "- Identifier des opérations d'achat-revente."
   ]
  },
  {
   "cell_type": "code",
   "execution_count": 19,
   "id": "d68f532f-f002-460f-89dc-62f66b91d75f",
   "metadata": {},
   "outputs": [],
   "source": [
    "import pandas as pd\n",
    "import folium"
   ]
  },
  {
   "cell_type": "markdown",
   "id": "f0b482e8-3ba3-4617-9a88-9a229c0b8c59",
   "metadata": {},
   "source": [
    "### Chargement des données"
   ]
  },
  {
   "cell_type": "code",
   "execution_count": 20,
   "id": "4bb7c256-46b7-484c-bd61-20b063cdced4",
   "metadata": {},
   "outputs": [
    {
     "name": "stderr",
     "output_type": "stream",
     "text": [
      "/var/folders/pz/pwb4fxrn0z73q85rm8lhqkh00000gn/T/ipykernel_79276/2471715599.py:1: DtypeWarning: Columns (8,10,12,14,17,18,20,22,24,35,36) have mixed types. Specify dtype option on import or set low_memory=False.\n",
      "  df = pd.read_csv(\"full.csv\")\n"
     ]
    }
   ],
   "source": [
    "df = pd.read_csv(\"full.csv\")"
   ]
  },
  {
   "cell_type": "code",
   "execution_count": 21,
   "id": "6686a8a5-531f-4dbd-bd1c-b726ddbf0932",
   "metadata": {},
   "outputs": [
    {
     "data": {
      "text/plain": [
       "Index(['id_mutation', 'date_mutation', 'numero_disposition', 'nature_mutation',\n",
       "       'valeur_fonciere', 'adresse_numero', 'adresse_suffixe',\n",
       "       'adresse_nom_voie', 'adresse_code_voie', 'code_postal', 'code_commune',\n",
       "       'nom_commune', 'code_departement', 'ancien_code_commune',\n",
       "       'ancien_nom_commune', 'id_parcelle', 'ancien_id_parcelle',\n",
       "       'numero_volume', 'lot1_numero', 'lot1_surface_carrez', 'lot2_numero',\n",
       "       'lot2_surface_carrez', 'lot3_numero', 'lot3_surface_carrez',\n",
       "       'lot4_numero', 'lot4_surface_carrez', 'lot5_numero',\n",
       "       'lot5_surface_carrez', 'nombre_lots', 'code_type_local', 'type_local',\n",
       "       'surface_reelle_bati', 'nombre_pieces_principales',\n",
       "       'code_nature_culture', 'nature_culture', 'code_nature_culture_speciale',\n",
       "       'nature_culture_speciale', 'surface_terrain', 'longitude', 'latitude'],\n",
       "      dtype='object')"
      ]
     },
     "execution_count": 21,
     "metadata": {},
     "output_type": "execute_result"
    }
   ],
   "source": [
    "df.columns"
   ]
  },
  {
   "cell_type": "code",
   "execution_count": 27,
   "id": "9f7764fc-d037-43fd-baeb-f74b6500bca3",
   "metadata": {},
   "outputs": [
    {
     "name": "stdout",
     "output_type": "stream",
     "text": [
      "===\n",
      "nature_mutation\n",
      "Vente                                 1475841\n",
      "Vente en l'état futur d'achèvement      61729\n",
      "Echange                                 22527\n",
      "Vente terrain à bâtir                    3681\n",
      "Adjudication                             2109\n",
      "Expropriation                             756\n",
      "Name: count, dtype: int64\n",
      "\n",
      "===\n",
      "nombre_lots\n",
      "0      1102418\n",
      "1       316709\n",
      "2       122449\n",
      "3        17347\n",
      "4         4703\n",
      "5         1311\n",
      "6          750\n",
      "7          336\n",
      "8          175\n",
      "10          97\n",
      "9           84\n",
      "12          58\n",
      "11          44\n",
      "13          31\n",
      "14          19\n",
      "15          15\n",
      "16          11\n",
      "20          10\n",
      "17          10\n",
      "18           9\n",
      "19           7\n",
      "22           4\n",
      "21           3\n",
      "25           3\n",
      "29           2\n",
      "42           2\n",
      "44           2\n",
      "33           2\n",
      "34           2\n",
      "23           2\n",
      "30           2\n",
      "161          2\n",
      "39           2\n",
      "27           2\n",
      "28           2\n",
      "32           2\n",
      "60           1\n",
      "58           1\n",
      "105          1\n",
      "72           1\n",
      "46           1\n",
      "236          1\n",
      "75           1\n",
      "51           1\n",
      "40           1\n",
      "35           1\n",
      "24           1\n",
      "50           1\n",
      "45           1\n",
      "37           1\n",
      "54           1\n",
      "41           1\n",
      "Name: count, dtype: int64\n",
      "\n",
      "===\n",
      "code_type_local\n",
      "3.0    394182\n",
      "1.0    235709\n",
      "2.0    201936\n",
      "4.0     48049\n",
      "Name: count, dtype: int64\n",
      "\n",
      "===\n",
      "type_local\n",
      "Dépendance                                  394182\n",
      "Maison                                      235709\n",
      "Appartement                                 201936\n",
      "Local industriel. commercial ou assimilé     48049\n",
      "Name: count, dtype: int64\n",
      "\n",
      "===\n",
      "nombre_pieces_principales\n",
      "0.0     442135\n",
      "4.0     105498\n",
      "3.0     105318\n",
      "2.0      79886\n",
      "5.0      60683\n",
      "1.0      49313\n",
      "6.0      22711\n",
      "7.0       8248\n",
      "8.0       2872\n",
      "9.0       1087\n",
      "10.0       531\n",
      "11.0       232\n",
      "12.0       115\n",
      "13.0        61\n",
      "14.0        43\n",
      "15.0        33\n",
      "16.0        19\n",
      "17.0        18\n",
      "21.0         9\n",
      "20.0         7\n",
      "18.0         6\n",
      "19.0         5\n",
      "23.0         3\n",
      "32.0         2\n",
      "53.0         2\n",
      "39.0         2\n",
      "33.0         1\n",
      "29.0         1\n",
      "24.0         1\n",
      "64.0         1\n",
      "70.0         1\n",
      "26.0         1\n",
      "28.0         1\n",
      "55.0         1\n",
      "25.0         1\n",
      "22.0         1\n",
      "Name: count, dtype: int64\n",
      "\n",
      "===\n",
      "code_nature_culture\n",
      "S     510381\n",
      "T     172587\n",
      "P      91607\n",
      "BT     54532\n",
      "J      52889\n",
      "L      46984\n",
      "AG     37786\n",
      "AB     37643\n",
      "VI     20068\n",
      "BR     17453\n",
      "VE     12538\n",
      "BS      9544\n",
      "PA      8550\n",
      "B       5990\n",
      "E       4585\n",
      "BP      4474\n",
      "BF      2651\n",
      "PP      1232\n",
      "PC       950\n",
      "CH       831\n",
      "PH       816\n",
      "BM       753\n",
      "CA       289\n",
      "LB       149\n",
      "PE        80\n",
      "TP        71\n",
      "BO        20\n",
      "Name: count, dtype: int64\n",
      "\n",
      "===\n",
      "nature_culture\n",
      "sols                   510381\n",
      "terres                 172587\n",
      "prés                    91607\n",
      "taillis simples         54532\n",
      "jardins                 52889\n",
      "landes                  46984\n",
      "terrains d'agrément     37786\n",
      "terrains a bâtir        37643\n",
      "vignes                  20068\n",
      "futaies résineuses      17453\n",
      "vergers                 12538\n",
      "taillis sous futaie      9544\n",
      "pâtures                  8550\n",
      "bois                     5990\n",
      "eaux                     4585\n",
      "peupleraies              4474\n",
      "futaies feuillues        2651\n",
      "prés plantes             1232\n",
      "pacages                   950\n",
      "chemin de fer             831\n",
      "herbages                  816\n",
      "futaies mixtes            753\n",
      "carrières                 289\n",
      "landes boisées            149\n",
      "prés d'embouche            80\n",
      "terres plantées            71\n",
      "oseraies                   20\n",
      "Name: count, dtype: int64\n",
      "\n",
      "===\n",
      "code_nature_culture_speciale\n",
      "POTAG    14507\n",
      "PATUR     8319\n",
      "PIN       6075\n",
      "PARC      5816\n",
      "FRICH     4966\n",
      "         ...  \n",
      "FALAI        1\n",
      "RIVAG        1\n",
      "CEDRA        1\n",
      "ABREU        1\n",
      "TAMAR        1\n",
      "Name: count, Length: 120, dtype: int64\n",
      "\n",
      "===\n",
      "nature_culture_speciale\n",
      "Jardin potager      14507\n",
      "Pâture plantée       8319\n",
      "Pins                 6075\n",
      "Parc                 5816\n",
      "Friche               4966\n",
      "                    ...  \n",
      "Falaise                 1\n",
      "Rivage (bois de)        1\n",
      "Cédratiers              1\n",
      "Abreuvoirs              1\n",
      "Tamarin                 1\n",
      "Name: count, Length: 120, dtype: int64\n",
      "\n",
      "===\n",
      "surface_terrain\n",
      "500.0      23028\n",
      "1000.0     11077\n",
      "800.0       3277\n",
      "600.0       3194\n",
      "200.0       2551\n",
      "           ...  \n",
      "16052.0        1\n",
      "23239.0        1\n",
      "37435.0        1\n",
      "27804.0        1\n",
      "27411.0        1\n",
      "Name: count, Length: 34507, dtype: int64\n",
      "\n"
     ]
    }
   ],
   "source": [
    "to_value_counts = ['nature_mutation', 'nombre_lots', 'code_type_local', 'type_local',  'nombre_pieces_principales', 'code_nature_culture', 'nature_culture', 'code_nature_culture_speciale', 'nature_culture_speciale', 'surface_terrain']\n",
    "#'surface_reelle_bati',\n",
    "\n",
    "for r in to_value_counts : \n",
    "    print(\"===\")\n",
    "    print(df[r].value_counts())\n",
    "    print()\n",
    "\n",
    "# value_counts"
   ]
  },
  {
   "cell_type": "code",
   "execution_count": 30,
   "id": "702e0157-22f3-44d1-b227-1c7833462889",
   "metadata": {},
   "outputs": [
    {
     "data": {
      "text/plain": [
       "np.float64(0.6918047059859841)"
      ]
     },
     "execution_count": 30,
     "metadata": {},
     "output_type": "execute_result"
    }
   ],
   "source": [
    "df['surface_reelle_bati'].isna().mean() #.value_counts()"
   ]
  },
  {
   "cell_type": "code",
   "execution_count": 32,
   "id": "be53a884-ba4d-43ff-aa4e-19055d109df4",
   "metadata": {},
   "outputs": [
    {
     "data": {
      "text/plain": [
       "np.float64(0.3007787989988785)"
      ]
     },
     "execution_count": 32,
     "metadata": {},
     "output_type": "execute_result"
    }
   ],
   "source": [
    "df['surface_terrain'].isna().mean()"
   ]
  },
  {
   "cell_type": "code",
   "execution_count": null,
   "id": "b421ac72-8004-4b99-bf08-aa8957db9247",
   "metadata": {},
   "outputs": [],
   "source": []
  },
  {
   "cell_type": "code",
   "execution_count": 10,
   "id": "708979a1-a084-4ee0-acf3-2f455f3a92a7",
   "metadata": {},
   "outputs": [],
   "source": [
    "# Sélectionner uniquement les colonnes de type catégoriel\n",
    "# categorical_columns = df.select_dtypes(include=['object', 'category']).columns\n",
    "\n",
    "# Appliquer .unique() à chaque colonne catégorielle\n",
    "# unique_values = {col: df[col].unique() for col in categorical_columns}"
   ]
  },
  {
   "cell_type": "code",
   "execution_count": 102,
   "id": "30b19f89-f1e2-4865-a709-eeca806d8001",
   "metadata": {},
   "outputs": [],
   "source": [
    "#df.surface_reelle_bati.isna().mean()"
   ]
  },
  {
   "cell_type": "code",
   "execution_count": 13,
   "id": "5870f7c0-09c1-4570-9559-0eb2ce734106",
   "metadata": {},
   "outputs": [],
   "source": []
  },
  {
   "cell_type": "code",
   "execution_count": 14,
   "id": "20f88d34-514e-461d-839b-8c7b1749023b",
   "metadata": {},
   "outputs": [],
   "source": [
    "filtered_df = df[df['code_postal'] == 77000]"
   ]
  },
  {
   "cell_type": "code",
   "execution_count": 15,
   "id": "519cf6d9-ccd7-490a-b330-e65481e0edb1",
   "metadata": {},
   "outputs": [
    {
     "data": {
      "text/plain": [
       "type_local\n",
       "Dépendance                                  373\n",
       "Appartement                                 235\n",
       "Maison                                       89\n",
       "Local industriel. commercial ou assimilé     44\n",
       "Name: count, dtype: int64"
      ]
     },
     "execution_count": 15,
     "metadata": {},
     "output_type": "execute_result"
    }
   ],
   "source": [
    "filtered_df[\"type_local\"].value_counts()"
   ]
  },
  {
   "cell_type": "code",
   "execution_count": null,
   "id": "b1ed85eb-9cf6-440b-a5ff-3480d0fcc698",
   "metadata": {},
   "outputs": [],
   "source": []
  },
  {
   "cell_type": "markdown",
   "id": "cb3091e4-a85a-4701-81d5-8e6107fee4d1",
   "metadata": {},
   "source": [
    "### Affichage des données de ventes"
   ]
  },
  {
   "cell_type": "code",
   "execution_count": 103,
   "id": "fca7f948-8ee4-4056-8556-aa99f7193438",
   "metadata": {},
   "outputs": [
    {
     "ename": "ValueError",
     "evalue": "data may not contain NaNs.",
     "output_type": "error",
     "traceback": [
      "\u001b[0;31m---------------------------------------------------------------------------\u001b[0m",
      "\u001b[0;31mValueError\u001b[0m                                Traceback (most recent call last)",
      "Cell \u001b[0;32mIn[103], line 34\u001b[0m\n\u001b[1;32m     32\u001b[0m \u001b[38;5;66;03m# Heatmap des prix/m²\u001b[39;00m\n\u001b[1;32m     33\u001b[0m heat_data \u001b[38;5;241m=\u001b[39m np\u001b[38;5;241m.\u001b[39marray([[row[\u001b[38;5;124m'\u001b[39m\u001b[38;5;124mlatitude\u001b[39m\u001b[38;5;124m'\u001b[39m], row[\u001b[38;5;124m'\u001b[39m\u001b[38;5;124mlongitude\u001b[39m\u001b[38;5;124m'\u001b[39m], row[\u001b[38;5;124m'\u001b[39m\u001b[38;5;124mprix_m2\u001b[39m\u001b[38;5;124m'\u001b[39m]] \u001b[38;5;28;01mfor\u001b[39;00m _, row \u001b[38;5;129;01min\u001b[39;00m filtered_df\u001b[38;5;241m.\u001b[39miterrows()])\n\u001b[0;32m---> 34\u001b[0m HeatMap(\n\u001b[1;32m     35\u001b[0m     heat_data,\n\u001b[1;32m     36\u001b[0m     name\u001b[38;5;241m=\u001b[39m\u001b[38;5;124m'\u001b[39m\u001b[38;5;124mPrix au m²\u001b[39m\u001b[38;5;124m'\u001b[39m,\n\u001b[1;32m     37\u001b[0m     \u001b[38;5;66;03m#gradient={0.4: 'blue', 0.6: 'lime', 1: 'red'},  # Personnaliser les couleurs\u001b[39;00m\n\u001b[1;32m     38\u001b[0m     min_opacity\u001b[38;5;241m=\u001b[39m\u001b[38;5;241m0.1\u001b[39m,\n\u001b[1;32m     39\u001b[0m     radius\u001b[38;5;241m=\u001b[39m\u001b[38;5;241m30\u001b[39m\n\u001b[1;32m     40\u001b[0m )\u001b[38;5;241m.\u001b[39madd_to(m)\n\u001b[1;32m     42\u001b[0m \u001b[38;5;66;03m# Marqueurs interactifs\u001b[39;00m\n\u001b[1;32m     43\u001b[0m \u001b[38;5;28;01mfor\u001b[39;00m _, row \u001b[38;5;129;01min\u001b[39;00m filtered_df\u001b[38;5;241m.\u001b[39miterrows():\n",
      "File \u001b[0;32m/opt/homebrew/Caskroom/miniconda/base/envs/geopandas/lib/python3.13/site-packages/folium/plugins/heat_map.py:87\u001b[0m, in \u001b[0;36mHeatMap.__init__\u001b[0;34m(self, data, name, min_opacity, max_zoom, radius, blur, gradient, overlay, control, show, **kwargs)\u001b[0m\n\u001b[1;32m     83\u001b[0m \u001b[38;5;28mself\u001b[39m\u001b[38;5;241m.\u001b[39mdata \u001b[38;5;241m=\u001b[39m [\n\u001b[1;32m     84\u001b[0m     [\u001b[38;5;241m*\u001b[39mvalidate_location(line[:\u001b[38;5;241m2\u001b[39m]), \u001b[38;5;241m*\u001b[39mline[\u001b[38;5;241m2\u001b[39m:]] \u001b[38;5;28;01mfor\u001b[39;00m line \u001b[38;5;129;01min\u001b[39;00m data  \u001b[38;5;66;03m# noqa: E999\u001b[39;00m\n\u001b[1;32m     85\u001b[0m ]\n\u001b[1;32m     86\u001b[0m \u001b[38;5;28;01mif\u001b[39;00m np\u001b[38;5;241m.\u001b[39many(np\u001b[38;5;241m.\u001b[39misnan(\u001b[38;5;28mself\u001b[39m\u001b[38;5;241m.\u001b[39mdata)):\n\u001b[0;32m---> 87\u001b[0m     \u001b[38;5;28;01mraise\u001b[39;00m \u001b[38;5;167;01mValueError\u001b[39;00m(\u001b[38;5;124m\"\u001b[39m\u001b[38;5;124mdata may not contain NaNs.\u001b[39m\u001b[38;5;124m\"\u001b[39m)\n\u001b[1;32m     88\u001b[0m \u001b[38;5;28;01mif\u001b[39;00m kwargs\u001b[38;5;241m.\u001b[39mpop(\u001b[38;5;124m\"\u001b[39m\u001b[38;5;124mmax_val\u001b[39m\u001b[38;5;124m\"\u001b[39m, \u001b[38;5;28;01mNone\u001b[39;00m):\n\u001b[1;32m     89\u001b[0m     warnings\u001b[38;5;241m.\u001b[39mwarn(\n\u001b[1;32m     90\u001b[0m         \u001b[38;5;124m\"\u001b[39m\u001b[38;5;124mThe `max_val` parameter is no longer necessary. \u001b[39m\u001b[38;5;124m\"\u001b[39m\n\u001b[1;32m     91\u001b[0m         \u001b[38;5;124m\"\u001b[39m\u001b[38;5;124mThe largest intensity is calculated automatically.\u001b[39m\u001b[38;5;124m\"\u001b[39m,\n\u001b[1;32m     92\u001b[0m         stacklevel\u001b[38;5;241m=\u001b[39m\u001b[38;5;241m2\u001b[39m,\n\u001b[1;32m     93\u001b[0m     )\n",
      "\u001b[0;31mValueError\u001b[0m: data may not contain NaNs."
     ]
    }
   ],
   "source": [
    "# ---------------------------\n",
    "# ADAPTER LE CODE AUX DONNÉES EXISTANTES\n",
    "# ---------------------------\n",
    "import pandas as pd\n",
    "import folium\n",
    "from folium.plugins import HeatMap\n",
    "\n",
    "# 1. Choisir un code postal présent dans les données (ex: 1170 = Gex)\n",
    "code_postal_cible = 44550 #77000 \n",
    "\n",
    "# 2. Filtrer les données et calculer le prix/m²\n",
    "filtered_df = df[df['code_postal'] == code_postal_cible].copy()\n",
    "filtered_df = filtered_df.dropna(subset=['valeur_fonciere', 'surface_terrain', 'longitude', 'latitude'])\n",
    "filtered_df = filtered_df[filtered_df['surface_terrain'] > 0]\n",
    "#filtered_df = filtered_df[filtered_df[\"type_local\"]==\"Appartements\"]\n",
    "filtered_df['prix_m2'] = filtered_df['valeur_fonciere'] / filtered_df['surface_terrain']\n",
    "\n",
    "# 3. Coordonnées du centre de la carte (ex: Gex - 46.332212, 6.058695)\n",
    "latitude_centre = filtered_df['latitude'].mean()\n",
    "longitude_centre = filtered_df['longitude'].mean()\n",
    "\n",
    "# ---------------------------\n",
    "# CRÉATION DE LA CARTE\n",
    "# ---------------------------\n",
    "\n",
    "m = folium.Map(\n",
    "    location=[latitude_centre, longitude_centre],\n",
    "    zoom_start=14,\n",
    "    tiles=\"cartodbpositron\"\n",
    ")\n",
    "\n",
    "# Heatmap des prix/m²\n",
    "heat_data = np.array([[row['latitude'], row['longitude'], row['prix_m2']] for _, row in filtered_df.iterrows()])\n",
    "HeatMap(\n",
    "    heat_data,\n",
    "    name='Prix au m²',\n",
    "    #gradient={0.4: 'blue', 0.6: 'lime', 1: 'red'},  # Personnaliser les couleurs\n",
    "    min_opacity=0.1,\n",
    "    radius=30\n",
    ").add_to(m)\n",
    "\n",
    "# Marqueurs interactifs\n",
    "for _, row in filtered_df.iterrows():\n",
    "    popup_html = f\"\"\"\n",
    "    <b>Adresse:</b> {row['adresse_numero']} {row['adresse_nom_voie']}<br>\n",
    "    <b>Prix:</b> {row['valeur_fonciere']:,.0f} €<br>\n",
    "    <b>Surface terrain:</b> {row['surface_terrain']} m²<br>\n",
    "    <b>Prix/m²:</b> {row['prix_m2']:,.1f} €\n",
    "    \"\"\"\n",
    "    folium.Marker(\n",
    "        location=[row['latitude'], row['longitude']],\n",
    "        popup=popup_html,\n",
    "        icon=folium.Icon(color='green', icon='euro', prefix='fa' ),\n",
    "        tooltip=f\"{row['prix_m2']:,.0f} €/m²\"\n",
    "    ).add_to(m)\n",
    "\n",
    "# Contrôle des calques + Affichage\n",
    "#folium.LayerControl().add_to(m)\n",
    "display(m)"
   ]
  },
  {
   "cell_type": "code",
   "execution_count": 63,
   "id": "78857488-da0d-498d-bbca-da3847ea2fe9",
   "metadata": {},
   "outputs": [],
   "source": [
    "#import numpy as np\n",
    "#data = (\n",
    "#    np.random.normal(size=(100, 3)) * np.array([[1, 1, 1]]) + np.array([[latitude_centre, longitude_centre, 1]])\n",
    "#).tolist()"
   ]
  },
  {
   "cell_type": "code",
   "execution_count": 64,
   "id": "ceeb8fda-e400-47a5-8968-2e5cae09a02a",
   "metadata": {},
   "outputs": [],
   "source": [
    "#HeatMap(np.array(heat_data)).add_to(m)"
   ]
  },
  {
   "cell_type": "code",
   "execution_count": 65,
   "id": "07db1b83-0a69-4627-b812-082e6bb19945",
   "metadata": {},
   "outputs": [],
   "source": [
    "#display(m)"
   ]
  },
  {
   "cell_type": "code",
   "execution_count": 78,
   "id": "32b9a170-dc56-41cf-9b77-7beb7715221f",
   "metadata": {},
   "outputs": [],
   "source": [
    "m.save(\"map.html\")"
   ]
  },
  {
   "cell_type": "code",
   "execution_count": null,
   "id": "dfceb918-11e4-4e7e-b0dd-0ee4b0170880",
   "metadata": {},
   "outputs": [],
   "source": []
  }
 ],
 "metadata": {
  "kernelspec": {
   "display_name": "Python 3 (ipykernel)",
   "language": "python",
   "name": "python3"
  },
  "language_info": {
   "codemirror_mode": {
    "name": "ipython",
    "version": 3
   },
   "file_extension": ".py",
   "mimetype": "text/x-python",
   "name": "python",
   "nbconvert_exporter": "python",
   "pygments_lexer": "ipython3",
   "version": "3.13.2"
  }
 },
 "nbformat": 4,
 "nbformat_minor": 5
}
